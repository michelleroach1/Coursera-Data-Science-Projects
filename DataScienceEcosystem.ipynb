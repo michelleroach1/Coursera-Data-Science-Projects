{
 "cells": [
  {
   "cell_type": "markdown",
   "id": "c84ab47c",
   "metadata": {},
   "source": [
    "# Data Science Tools and Ecosystem"
   ]
  },
  {
   "cell_type": "markdown",
   "id": "9f33b7dc",
   "metadata": {},
   "source": [
    "**Objectives:**\n",
    "- List Popular Languages for Data Science\n",
    "- List Popular libraries for Data Science\n",
    "- List Popular Data Science Tools"
   ]
  },
  {
   "cell_type": "markdown",
   "id": "0b3ae05b",
   "metadata": {},
   "source": [
    "In this notebook, Data Science Tools and Ecosystem are summarized."
   ]
  },
  {
   "cell_type": "markdown",
   "id": "26ec72e3",
   "metadata": {},
   "source": [
    "Some of the popular languages that Data Scientists use are:"
   ]
  },
  {
   "cell_type": "markdown",
   "id": "935f4279",
   "metadata": {},
   "source": [
    "1. Python\n",
    "2. R\n",
    "3. Javascript\n",
    "4. Julia"
   ]
  },
  {
   "cell_type": "markdown",
   "id": "94863321",
   "metadata": {},
   "source": [
    "Some of the commonly used libraries used by Data Scientists include:\n",
    "1. Pandas\n",
    "2. ScikitLearn\n",
    "3. NumPy\n",
    "4. SciPy"
   ]
  },
  {
   "cell_type": "markdown",
   "id": "b8624477",
   "metadata": {},
   "source": [
    "|Data Science Tools|\n",
    "----------------------\n",
    "|Anaconda-Navigator|\n",
    "|Jupyter Notebooks|\n",
    "|GitHub|"
   ]
  },
  {
   "cell_type": "markdown",
   "id": "31687463",
   "metadata": {},
   "source": [
    "### Below are a few examples of evaluating arithmetic epressions in Python"
   ]
  },
  {
   "cell_type": "markdown",
   "id": "b6349a56",
   "metadata": {},
   "source": [
    "This is a simple arithmetic expressionto multiply then add integers"
   ]
  },
  {
   "cell_type": "code",
   "execution_count": 5,
   "id": "2690f0e1",
   "metadata": {},
   "outputs": [
    {
     "data": {
      "text/plain": [
       "17"
      ]
     },
     "execution_count": 5,
     "metadata": {},
     "output_type": "execute_result"
    }
   ],
   "source": [
    "(3*4)+5"
   ]
  },
  {
   "cell_type": "markdown",
   "id": "608ecff9",
   "metadata": {},
   "source": [
    "This will convert 200 minutes into hours by dividing by 60."
   ]
  },
  {
   "cell_type": "code",
   "execution_count": 6,
   "id": "e84dcfb8",
   "metadata": {
    "scrolled": true
   },
   "outputs": [
    {
     "data": {
      "text/plain": [
       "3.3333333333333335"
      ]
     },
     "execution_count": 6,
     "metadata": {},
     "output_type": "execute_result"
    }
   ],
   "source": [
    "200/60"
   ]
  },
  {
   "cell_type": "markdown",
   "id": "ff3a2208",
   "metadata": {},
   "source": [
    "## Author\n",
    "Michelle Roach"
   ]
  },
  {
   "cell_type": "code",
   "execution_count": null,
   "id": "6d24e3c2",
   "metadata": {},
   "outputs": [],
   "source": []
  }
 ],
 "metadata": {
  "kernelspec": {
   "display_name": "Python 3 (ipykernel)",
   "language": "python",
   "name": "python3"
  },
  "language_info": {
   "codemirror_mode": {
    "name": "ipython",
    "version": 3
   },
   "file_extension": ".py",
   "mimetype": "text/x-python",
   "name": "python",
   "nbconvert_exporter": "python",
   "pygments_lexer": "ipython3",
   "version": "3.11.7"
  }
 },
 "nbformat": 4,
 "nbformat_minor": 5
}
